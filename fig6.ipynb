{
 "cells": [
  {
   "cell_type": "code",
   "execution_count": null,
   "id": "cd3fe4e9",
   "metadata": {},
   "outputs": [],
   "source": [
    "import cohortintgrad as csig\n",
    "import pickle, torch, itertools, os, json\n",
    "import util_xtda_chem, tobacco_util, data_construct\n",
    "import matplotlib.pyplot as plt\n",
    "from sklearn.model_selection import train_test_split\n",
    "import numpy as np\n",
    "import pandas as pd"
   ]
  },
  {
   "cell_type": "code",
   "execution_count": null,
   "id": "9300a59f",
   "metadata": {},
   "outputs": [],
   "source": [
    "tobacco_util.cat_feat_ver1(\n",
    "    item=\"Methane\",\n",
    "    pressure_item=100,\n",
    "    tobacco_dir = \"3rdparty/tobacco_1.0/\",\n",
    ")"
   ]
  },
  {
   "cell_type": "code",
   "execution_count": null,
   "id": "42da227e",
   "metadata": {},
   "outputs": [],
   "source": [
    "_, x, _, _ = util_xtda_chem.dataload(npz_fn='tobacco_1.0_CH4_100bar_x_sc.npy', df_fn='tobacco_1.0_CH4_100bar_sc.csv')\n",
    "num_data = 1000\n",
    "x = x[:1000]\n",
    "\n",
    "model_fn = 'model_tobacco.pkl'\n",
    "with open(model_fn, mode=\"rb\") as f:\n",
    "    rf = pickle.load(f)\n",
    "\n",
    "y = rf.predict(x.reshape(x.shape[0], -1))"
   ]
  },
  {
   "cell_type": "code",
   "execution_count": null,
   "id": "ae6d3020",
   "metadata": {},
   "outputs": [],
   "source": [
    "IG = csig.CohortIntGrad(torch.Tensor(x), torch.Tensor(y), ratio=0.01, n_step=50)\n",
    "ig, rd = IG.igcs_stack(list(range(x.shape[0])))\n",
    "torch.save(ig, f'igcs_tobacco_100bar_cube_predict')"
   ]
  },
  {
   "cell_type": "code",
   "execution_count": null,
   "id": "ac8ac4f6",
   "metadata": {},
   "outputs": [],
   "source": [
    "cif_id=4049\n",
    "with open(\"map_from_testID_to_cifID_tobacco.json\", mode=\"r\") as f:\n",
    "    map_js = json.load(f)\n",
    "data_id=np.where(np.array(list(map_js.values())) == cif_id)[0].item()\n",
    "\n",
    "onemaxB = 27.0\n",
    "twomaxB = 27.0\n",
    "onemaxP = 8.8\n",
    "twomaxP = 3.5\n",
    "px_size = 54"
   ]
  },
  {
   "cell_type": "code",
   "execution_count": null,
   "id": "8dd475f8",
   "metadata": {},
   "outputs": [],
   "source": [
    "os.makedirs(\"tobacco_cat_predict\", exist_ok=True)\n",
    "tobacco_util.cs_for_csig_dump_px_by_px_forsingle(\n",
    "    cif_id=cif_id,\n",
    "    dir_name = \"tobacco_cat_predict\",\n",
    "    igcs_cube_fn=\"igcs_tobacco_100bar_cube_predict\",\n",
    "    map_js_fn = \"map_from_testID_to_cifID_tobacco.json\",\n",
    "    cat_df_fn = \"cat_feat_tobacco_1.0.csv\",\n",
    "    output_stack_fn = f\"cs_for_igcs_allstack_predict_001_{cif_id}.npy\",\n",
    "    px_size = 54,\n",
    "    cohort_size = 1000,)"
   ]
  },
  {
   "cell_type": "code",
   "execution_count": null,
   "id": "801f4088",
   "metadata": {},
   "outputs": [],
   "source": [
    "cat_df = pd.read_csv(\"cat_feat_tobacco_1.0.csv\").set_index(\"Unnamed: 0\")\n",
    "xt1, yt1 = data_construct.ticks(\n",
    "    px_size=px_size, max_birth=onemaxB, max_persistence=onemaxP\n",
    ")\n",
    "xt2, yt2 = data_construct.ticks(\n",
    "    px_size=px_size, max_birth=twomaxB, max_persistence=twomaxP\n",
    ")\n",
    "\n",
    "all_np_fn = f\"tobacco_cat_predict/cs_for_igcs_allstack_predict_001_{cif_id}.npy\"\n",
    "igcs_target = np.load(all_np_fn)\n",
    "#igcs_target = all_np[:, data_id]\n",
    "\n",
    "df_fn = \"tobacco_1.0_CH4_100bar_sc.csv\"\n",
    "df = pd.read_csv(df_fn).set_index(\"Unnamed: 0\")\n",
    "_, test_x, _, _ = train_test_split(\n",
    "    df[\"fn\"].values, df[\"adsorption\"].values, test_size=0.2, random_state=1018\n",
    ")\n",
    "\n",
    "test_x_cif = [int(i.split('-')[1].split('.')[0]) for i in test_x]\n",
    "\n",
    "tick_num = len(xt1) - 1\n",
    "vmax = np.max(abs(igcs_target))"
   ]
  },
  {
   "cell_type": "code",
   "execution_count": null,
   "id": "0f394001",
   "metadata": {},
   "outputs": [],
   "source": [
    "fig, ax = plt.subplots(4, 2, figsize=(13, 26))\n",
    "for i, j in itertools.product(range(4), range(2)):\n",
    "    ax[i, j].set_title(\n",
    "        f\"CS of {cat_df.loc[test_x_cif[data_id]][i+2]} for cycles in H{j+1}\\nsum of attr={np.round(np.sum(igcs_target[:,i].reshape(2, px_size, px_size)[j, ::-1]),2)}\",\n",
    "        fontsize=18,\n",
    "    )\n",
    "    im_content = ax[i, j].imshow(\n",
    "        igcs_target[:, i].reshape(2, px_size, px_size)[j, ::-1],\n",
    "        cmap=\"seismic\",\n",
    "        vmin=-vmax,\n",
    "        vmax=vmax,\n",
    "    )\n",
    "    cb = fig.colorbar(im_content, ax=ax[i, j])\n",
    "    cb.ax.tick_params(labelsize=18)\n",
    "\n",
    "    ax[i, j].invert_yaxis()\n",
    "    ax[i, j].set_xticks(\n",
    "        range(0, px_size + int(px_size / tick_num), int(px_size / tick_num))\n",
    "    )\n",
    "    ax[i, j].set_yticks(\n",
    "        range(0, px_size + int(px_size / tick_num), int(px_size / tick_num))\n",
    "    )\n",
    "    ax[i, j].set_xlabel(\"Birth (angstrom)\", fontsize=18)\n",
    "    ax[i, j].set_ylabel(\"Persistence (angstrom)\", fontsize=18)\n",
    "for i in range(4):\n",
    "    ax[i, 0].set_xticklabels(xt1, fontsize=18, rotation=270)\n",
    "    ax[i, 0].set_yticklabels(yt1, fontsize=18)\n",
    "    ax[i, 1].set_xticklabels(xt2, fontsize=18, rotation=270)\n",
    "    ax[i, 1].set_yticklabels(yt2, fontsize=18)\n",
    "fig.tight_layout()\n",
    "\n",
    "plt.show()"
   ]
  },
  {
   "cell_type": "code",
   "execution_count": null,
   "id": "df0166e3",
   "metadata": {},
   "outputs": [],
   "source": [
    "cat_x = cat_df.loc[map_js.values()].iloc[:1000][['template','node1','node2','edge']].values\n",
    "IG = csig.CohortIntGrad(x=cat_x, y=y[:1000], n_step=50, ratio=0.01)\n",
    "direct_attr = np.vstack([IG.cohort_kernel_shap(t_id=i) for i in range(1000)])\n",
    "\n",
    "cat_df_lim = cat_df.loc[map_js.values()].iloc[:1000].reset_index()\n",
    "pd.DataFrame(direct_attr[cat_df_lim[cat_df_lim['5']=='L_43'].index]).describe()[3].loc['mean']"
   ]
  },
  {
   "cell_type": "code",
   "execution_count": null,
   "id": "5d692bd2",
   "metadata": {},
   "outputs": [],
   "source": [
    "pd.DataFrame(direct_attr[cat_df_lim[cat_df_lim['5']=='L_43'].index]).loc[np.where(cat_df_lim[cat_df_lim['5']=='L_43']['0']==cif_id)[0]][3]"
   ]
  }
 ],
 "metadata": {
  "kernelspec": {
   "display_name": "Python 3 (ipykernel)",
   "language": "python",
   "name": "python3"
  },
  "language_info": {
   "codemirror_mode": {
    "name": "ipython",
    "version": 3
   },
   "file_extension": ".py",
   "mimetype": "text/x-python",
   "name": "python",
   "nbconvert_exporter": "python",
   "pygments_lexer": "ipython3",
   "version": "3.10.6"
  }
 },
 "nbformat": 4,
 "nbformat_minor": 5
}
