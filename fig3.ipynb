{
 "cells": [
  {
   "cell_type": "code",
   "execution_count": null,
   "id": "f20b090b",
   "metadata": {},
   "outputs": [],
   "source": [
    "import hist_igcs, viewer_util, perturbation\n",
    "from moleculetda.read_file import read_data\n",
    "import ipywidgets\n",
    "import nglview as nv\n",
    "import os, torch,json, glob,pickle\n",
    "from pymatgen.transformations.advanced_transformations import CubicSupercellTransformation\n",
    "from pymatgen.core import Molecule, Structure\n",
    "import pandas as pd\n",
    "import numpy as np"
   ]
  },
  {
   "cell_type": "code",
   "execution_count": null,
   "id": "c66bfed4",
   "metadata": {},
   "outputs": [],
   "source": [
    "os.makedirs('tobacco_pdgm', exist_ok=True)\n",
    "os.makedirs('perturb4921_dgm', exist_ok=True)"
   ]
  },
  {
   "cell_type": "code",
   "execution_count": null,
   "id": "51cc7d15",
   "metadata": {},
   "outputs": [],
   "source": [
    "k=4921;filename = f'tobacco_cif/tobmof-{k}.cif'"
   ]
  },
  {
   "cell_type": "code",
   "execution_count": null,
   "id": "9231fa07",
   "metadata": {},
   "outputs": [],
   "source": [
    "#for _ in tqdm.tqdm(range(584)):\n",
    "#    dumpname = f'perturb4921/{perturbation.randomname(8)}.pkl'\n",
    "#    perturbation.read_and_perturb_cif(filename=filename, dumpname=dumpname)\n",
    "\n",
    "#complete reproduce of this perturbation needs to modify pymatgen"
   ]
  },
  {
   "cell_type": "code",
   "execution_count": null,
   "id": "2f5d7b1f",
   "metadata": {},
   "outputs": [],
   "source": [
    "structure = Structure.from_file(filename)\n",
    "dumpname = f'perturb4921/original_str.pkl'\n",
    "with open(dumpname, mode=\"wb\") as f:\n",
    "        pickle.dump(structure, f)"
   ]
  },
  {
   "cell_type": "code",
   "execution_count": null,
   "id": "104fc932",
   "metadata": {},
   "outputs": [],
   "source": [
    "perturbation.dgm_dump(pkl_suffix = \"perturb4921/????????.pkl\", dgm_dir = \"perturb4921_dgm\")"
   ]
  },
  {
   "cell_type": "code",
   "execution_count": null,
   "id": "5d8ef497",
   "metadata": {},
   "outputs": [],
   "source": [
    "perturbation.construct_hist_unit_transnegative(\n",
    "    original_structure_pkl=dumpname,\n",
    "    pkl_suffix=\"perturb4921/????????.pkl\",  # perturbed file lists\n",
    "    output_feat_df_fn = \"perturb4921/bins_perturb_unit36_max72.csv\",  # target\n",
    "    unit = 36,\n",
    "    max_size = 72,\n",
    "    cutoff = False,\n",
    ")"
   ]
  },
  {
   "cell_type": "code",
   "execution_count": null,
   "id": "0e67b7e2",
   "metadata": {},
   "outputs": [],
   "source": [
    "perturbation.dgm_to_landscape(    original_dgm='perturb4921_dgm/original_str.pkl_dgm.pkl',\n",
    "    dgm_prefix='perturb4921_dgm/????????.pkl_dgm.pkl',\n",
    "    output_npy_fn='perturb4921/stacked_x.npy',\n",
    "    px_size=54,\n",
    "    onemaxB = 27.0,\n",
    "    twomaxB = 27.0,\n",
    "    onemaxP = 8.8,\n",
    "    twomaxP = 3.5,)"
   ]
  },
  {
   "cell_type": "code",
   "execution_count": null,
   "id": "d3f3124f",
   "metadata": {},
   "outputs": [],
   "source": [
    "model_fn = 'model_tobacco.pkl'\n",
    "with open(model_fn, mode=\"rb\") as f:\n",
    "    rf = pickle.load(f)\n",
    "\n",
    "x = np.load('perturb4921/stacked_x.npy')\n",
    "y = rf.predict(x.reshape(x.shape[0], -1))\n",
    "np.save('perturb4921/stacked_y.npy', y)"
   ]
  },
  {
   "cell_type": "code",
   "execution_count": null,
   "id": "0819312b",
   "metadata": {},
   "outputs": [],
   "source": [
    "perturbation.igcs_total_single(\n",
    "    feat_df_fn=\"perturb4921/bins_perturb_unit36_max72.csv\",\n",
    "    target_fn='perturb4921/stacked_y.npy',  # made from x above\n",
    "    output_igcs_npz_fn=\"perturb4921/igcs_direct_single\",\n",
    "    ratio=0.01 #small enough to distinguish numbers of atoms in grids\n",
    ")"
   ]
  },
  {
   "cell_type": "code",
   "execution_count": null,
   "id": "fcb49044",
   "metadata": {},
   "outputs": [],
   "source": [
    "ps = viewer_util.ViewerUtil(cif_fn=f'tobacco_cif/tobmof-{k}.cif', pdgm_fn=f'tobacco_pdgm/tobmof-{k}.pdgm')\n",
    "bdy147 = ps.bdy_symbols(dim=1, pair_id=147, reduce=False)\n",
    "bdy149 = ps.bdy_symbols(dim=1, pair_id=149, reduce=False)"
   ]
  },
  {
   "cell_type": "code",
   "execution_count": null,
   "id": "5e158128",
   "metadata": {},
   "outputs": [],
   "source": [
    "snap_predict = np.load(f'perturb{k}/igcs_direct_single_bins_perturb_unit36_max72_0.npy')\n",
    "df = pd.read_csv(f'perturb{k}/bins_perturb_unit36_max72.csv').set_index(\"Unnamed: 0\")\n",
    "ser = df.iloc[0]\n",
    "serr = pd.Series(snap_predict, index=ser.index)\n",
    "unit=36\n",
    "max_size=72\n",
    "divided_full = dict()\n",
    "for i in range(ps.coords.shape[0]):\n",
    "    coords = ps.coords\n",
    "    for j in range(3):\n",
    "        trans = np.min(coords, axis=0)[j]\n",
    "        if trans < 0:\n",
    "            # print(coords)\n",
    "            coords[:, j] -= trans\n",
    "    x, y, z = (coords[i] * unit / max_size).astype(int) / unit * max_size \n",
    "    if f\"{x}-{y}-{z}\" not in serr.index: print(x,y,z)\n",
    "    contrib = serr[f\"{x}-{y}-{z}\"] / ser[f\"{x}-{y}-{z}\"]\n",
    "    divided_full[i] = contrib\n",
    "ratio_ser = pd.Series(divided_full, index=divided_full.keys())"
   ]
  },
  {
   "cell_type": "code",
   "execution_count": null,
   "id": "1f33f730",
   "metadata": {},
   "outputs": [],
   "source": [
    "void_in_list=list()\n",
    "for l in serr[ser==0].index:\n",
    "    void_in_list.append(l)"
   ]
  },
  {
   "cell_type": "markdown",
   "id": "479491fc",
   "metadata": {},
   "source": [
    "Figure 3(a)"
   ]
  },
  {
   "cell_type": "code",
   "execution_count": null,
   "id": "ea421b13",
   "metadata": {},
   "outputs": [],
   "source": [
    "nview_2403 = nv.show_pymatgen(Structure.from_file(f'tobacco_cif/tobmof-4921.cif'))\n",
    "nview_2403.add_unitcell()\n",
    "nview_2403.camera = \"perspective\"\n",
    "nview_2403"
   ]
  },
  {
   "cell_type": "markdown",
   "id": "6bee3475",
   "metadata": {},
   "source": [
    "Figure 3(b)"
   ]
  },
  {
   "cell_type": "code",
   "execution_count": null,
   "id": "7cf5b90c",
   "metadata": {},
   "outputs": [],
   "source": [
    "darkgrey = [ 0, 0.9, 0.9 ]\n",
    "yellow = [0.9, 0.9,0 ]\n",
    "\n",
    "nview_2403 = nv.show_pymatgen(Structure.from_file(f'tobacco_cif/tobmof-{k}.cif'))\n",
    "nview_2403.add_unitcell()\n",
    "nview_2403.camera = \"perspective\"\n",
    "for i in range(ps.coords[bdy149].shape[0]):\n",
    "    #print(i)\n",
    "    j = bdy149[i] #enumerate\n",
    "    nview_2403.shape.add_sphere(ps.coords[bdy149][i],\\\n",
    "                                list(np.array(darkgrey)*(ratio_ser[j]-np.min(ratio_ser[bdy149]))/(np.max(ratio_ser[bdy149].values)-np.min(ratio_ser[bdy149]))) ,\\\n",
    "                                ps.pd1_df.loc[149].birth_sqrt)\n",
    "\n",
    "nview_2403"
   ]
  },
  {
   "cell_type": "markdown",
   "id": "6e5f4e52",
   "metadata": {},
   "source": [
    "Figure 3(c)"
   ]
  },
  {
   "cell_type": "code",
   "execution_count": null,
   "id": "d129f814",
   "metadata": {},
   "outputs": [],
   "source": [
    "darkgrey = [ 0, 0.9, 0.9 ]\n",
    "yellow = [0.9, 0.9,0 ]\n",
    "\n",
    "nview_2403 = nv.show_pymatgen(Structure.from_file(f'tobacco_cif/tobmof-{k}.cif'))\n",
    "nview_2403.add_unitcell()\n",
    "nview_2403.camera = \"perspective\"\n",
    "for i in range(ps.coords[bdy147].shape[0]):\n",
    "    #print(i)\n",
    "    j = bdy147[i] #enumerate\n",
    "    nview_2403.shape.add_sphere(ps.coords[bdy147][i],\\\n",
    "                                list(np.array(darkgrey)*(ratio_ser[j]-np.min(ratio_ser[bdy147]))/(np.max(ratio_ser[bdy147].values)-np.min(ratio_ser[bdy147]))) ,\\\n",
    "                                ps.pd1_df.loc[147].birth_sqrt)\n",
    "\n",
    "nview_2403"
   ]
  },
  {
   "cell_type": "code",
   "execution_count": null,
   "id": "814c97fc",
   "metadata": {},
   "outputs": [],
   "source": [
    "def mesh_list(x,y,z):\n",
    "    return list(np.hstack([list(np.array([x,y,z])),\\\n",
    "                                     list(np.array([x+2,y,z])), \\\n",
    "                                     list(np.array([x,y+2,z])),\\\n",
    "                                     list(np.array([x+2,y,z])),\\\n",
    "                                     list(np.array([x+2,y+2,z])),\\\n",
    "                                     list(np.array([x+2,y,z+2])), \\\n",
    "                                     list(np.array([x+2,y+2,z+2])),\\\n",
    "                                     list(np.array([x+2,y,z+2])),\\\n",
    "                                     list(np.array([x,y+2,z+2])), \\\n",
    "                                                                         list(np.array([x,y,z])),\\\n",
    "                                     list(np.array([x,y+2,z])),\\\n",
    "                                     list(np.array([x,y,z+2])), \\\n",
    "                                                                                                             list(np.array([x,y,z])),\\\n",
    "                                     list(np.array([x+2,y,z])),\\\n",
    "                                     list(np.array([x,y,z+2])), \\\n",
    "                                       list(np.array([x+2,y+2,z+2])),\\\n",
    "                                     list(np.array([x+2,y+2,z])),\\\n",
    "                                     list(np.array([x,y+2,z+2])), \\\n",
    "                                       list(np.array([x,y+2,z+2])),\\\n",
    "                                     list(np.array([x,y,z+2])),\\\n",
    "                                     list(np.array([x,y+2,z])), \\\n",
    "                                       list(np.array([x,y+2,z])),\\\n",
    "                                     list(np.array([x,y+2,z+2])),\\\n",
    "                                     list(np.array([x+2,y+2,z])), \\\n",
    "                                       list(np.array([x+2,y,z+2])),\\\n",
    "                                     list(np.array([x+2,y,z])),\\\n",
    "                                     list(np.array([x,y,z+2])), \\\n",
    "                                       list(np.array([x+2,y+2,z])),\\\n",
    "                                     list(np.array([x+2,y,z])),\\\n",
    "                                     list(np.array([x,y+2,z])), \\\n",
    "                                       list(np.array([x,y,z+2])),\\\n",
    "                                     list(np.array([x+2,y,z+2])),\\\n",
    "                                     list(np.array([x,y+2,z+2])), \\\n",
    "                                    \n",
    "                                    list(np.array([x+2,y+2,z+2])),\\\n",
    "                                     list(np.array([x+2,y+2,z])), \\\n",
    "                                     list(np.array([x+2,y,z+2]))]))"
   ]
  },
  {
   "cell_type": "markdown",
   "id": "11308c37",
   "metadata": {},
   "source": [
    "Figure 3(d)"
   ]
  },
  {
   "cell_type": "code",
   "execution_count": null,
   "id": "767d3d94",
   "metadata": {},
   "outputs": [],
   "source": [
    "yellow = [0.9, 0,0.9 ]\n",
    "\n",
    "nview_2403 = nv.show_pymatgen(Structure.from_file(f'tobacco_cif/tobmof-4921.cif'))\n",
    "nview_2403.add_unitcell()\n",
    "nview_2403.camera = \"perspective\"\n",
    "for i,l in enumerate(list(serr[void_in_list].sort_values(ascending=False).tail(5).index)):\n",
    "    x,y,z=l.split('-')\n",
    "    x=float(x)\n",
    "    y=float(y)\n",
    "    z=float(z)\n",
    "    value = serr[l] #item\n",
    "    nview_2403.shape.add_mesh(mesh_list(x,y,z), [0.5 for i in range(108)])\n",
    "    #nview_2403.shape.add_text([x,y,z], [0,0,0], 5, f'{np.round(value*100,2)}'[:5])\n",
    "nview_2403"
   ]
  },
  {
   "cell_type": "markdown",
   "id": "3db168ce",
   "metadata": {},
   "source": [
    "Figure 3(e)"
   ]
  },
  {
   "cell_type": "code",
   "execution_count": null,
   "id": "8c957c12",
   "metadata": {},
   "outputs": [],
   "source": [
    "yellow = [0.9, 0,0.9 ]\n",
    "\n",
    "nview_2403 = nv.show_pymatgen(Structure.from_file(f'tobacco_cif/tobmof-4921.cif'))\n",
    "nview_2403.add_unitcell()\n",
    "nview_2403.camera = \"perspective\"\n",
    "for i,l in enumerate(list(serr[void_in_list].sort_values(ascending=False).head(5).index)):\n",
    "    x,y,z=l.split('-')\n",
    "    x=float(x)\n",
    "    y=float(y)\n",
    "    z=float(z)\n",
    "    value = serr[l] #item\n",
    "    nview_2403.shape.add_mesh(mesh_list(x,y,z), [0.5 for i in range(108)])\n",
    "    #nview_2403.shape.add_text([x,y,z], [0,0,0], 5, f'{np.round(value*100,2)}'[:5])\n",
    "nview_2403"
   ]
  },
  {
   "cell_type": "code",
   "execution_count": null,
   "id": "e0bf4654",
   "metadata": {},
   "outputs": [],
   "source": [
    "ratio_ser.describe()"
   ]
  },
  {
   "cell_type": "code",
   "execution_count": null,
   "id": "db4f465b",
   "metadata": {},
   "outputs": [],
   "source": []
  }
 ],
 "metadata": {
  "kernelspec": {
   "display_name": "Python 3 (ipykernel)",
   "language": "python",
   "name": "python3"
  },
  "language_info": {
   "codemirror_mode": {
    "name": "ipython",
    "version": 3
   },
   "file_extension": ".py",
   "mimetype": "text/x-python",
   "name": "python",
   "nbconvert_exporter": "python",
   "pygments_lexer": "ipython3",
   "version": "3.10.6"
  }
 },
 "nbformat": 4,
 "nbformat_minor": 5
}
