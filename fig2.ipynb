{
 "cells": [
  {
   "cell_type": "code",
   "execution_count": null,
   "id": "d3909de6",
   "metadata": {},
   "outputs": [],
   "source": [
    "import data_construct, cv2\n",
    "import matplotlib.pyplot as plt"
   ]
  },
  {
   "cell_type": "code",
   "execution_count": null,
   "id": "a24fd5c1",
   "metadata": {},
   "outputs": [],
   "source": [
    "js = data_construct.adsorption_json(file_prefix='tobacco_cif/tobmof-', \n",
    "                                    item='Methane', \n",
    "                                    pressure_item=100, \n",
    "                                    output_fn='tobacco_CH4_100bar_adsorption.json')"
   ]
  },
  {
   "cell_type": "code",
   "execution_count": null,
   "id": "ef8f67a5",
   "metadata": {},
   "outputs": [],
   "source": [
    "data_construct.pd_array(dict_fn='tobacco_CH4_100bar_adsorption.json', \n",
    "                        dgm_dir='tobacco_1.0_CH4_100bar', \n",
    "                        px_size=54, \n",
    "                        output_df_fn='tobacco_1.0_CH4_100bar_sc.csv', \n",
    "                        output_npz_fn='tobacco_1.0_CH4_100bar_x_sc', \n",
    "                        spec_dict={\n",
    "        1: {\"maxB\": 27.0, \"maxP\": 8.8, \"minBD\": 0.0},\n",
    "        2: {\"maxB\": 27.0, \"maxP\": 3.5, \"minBD\": 0.0},})"
   ]
  },
  {
   "cell_type": "code",
   "execution_count": null,
   "id": "3dafe0fe",
   "metadata": {},
   "outputs": [],
   "source": [
    "rg, r2 = data_construct.rf_fit(\n",
    "    npz_fn = \"tobacco_1.0_CH4_100bar_x_sc.npy\",\n",
    "    df_fn = \"tobacco_1.0_CH4_100bar_sc.csv\",\n",
    "    model_pkl_fn = 'model_tobacco.pkl',\n",
    "    save = True)"
   ]
  },
  {
   "cell_type": "code",
   "execution_count": null,
   "id": "9c52e486",
   "metadata": {},
   "outputs": [],
   "source": [
    "data_construct.feat_importance_plot(\n",
    "    model_pkl_fn = 'model_tobacco.pkl',\n",
    "    px_size = 54,\n",
    "    img_fn = \"test_rf_tobacco.png\",\n",
    "    one_maxB = 27.0,\n",
    "    two_maxB = 27.0,\n",
    "    one_maxP = 8.8,\n",
    "    two_maxP = 3.5,\n",
    ")"
   ]
  },
  {
   "cell_type": "code",
   "execution_count": null,
   "id": "7445fb3e",
   "metadata": {},
   "outputs": [],
   "source": [
    "plt.imshow(cv2.cvtColor(cv2.imread(\"test_rf_tobacco.png\"),cv2.COLOR_BGR2RGB))\n",
    "plt.show()"
   ]
  }
 ],
 "metadata": {
  "kernelspec": {
   "display_name": "Python 3 (ipykernel)",
   "language": "python",
   "name": "python3"
  },
  "language_info": {
   "codemirror_mode": {
    "name": "ipython",
    "version": 3
   },
   "file_extension": ".py",
   "mimetype": "text/x-python",
   "name": "python",
   "nbconvert_exporter": "python",
   "pygments_lexer": "ipython3",
   "version": "3.10.6"
  }
 },
 "nbformat": 4,
 "nbformat_minor": 5
}
