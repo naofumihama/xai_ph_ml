{
 "cells": [
  {
   "cell_type": "code",
   "execution_count": null,
   "id": "b7163bd8",
   "metadata": {},
   "outputs": [],
   "source": [
    "import tobacco_util, json, util_xtda_chem, cv2, pickle, torch\n",
    "import numpy as np\n",
    "import matplotlib.pyplot as plt\n",
    "import cohortintgrad as csig"
   ]
  },
  {
   "cell_type": "code",
   "execution_count": null,
   "id": "6759b2d3",
   "metadata": {},
   "outputs": [],
   "source": [
    "cif_id = 4049\n",
    "with open(\"map_from_testID_to_cifID_tobacco.json\", mode=\"r\") as f:\n",
    "    map_js = json.load(f)\n",
    "data_id=np.where(np.array(list(map_js.values())) == cif_id)[0].item()\n",
    "\n",
    "npz_fn = \"tobacco_1.0_CH4_100bar_x_sc.npy\"\n",
    "df_fn = \"tobacco_1.0_CH4_100bar_sc.csv\"\n",
    "\n",
    "_, x, _, _ = util_xtda_chem.dataload(npz_fn=npz_fn, df_fn=df_fn)\n",
    "num_data = 1000\n",
    "x = x[:1000]\n",
    "\n",
    "model_fn = 'model_tobacco.pkl'\n",
    "with open(model_fn, mode=\"rb\") as f:\n",
    "    rf = pickle.load(f)\n",
    "\n",
    "y = rf.predict(x.reshape(x.shape[0], -1))"
   ]
  },
  {
   "cell_type": "code",
   "execution_count": null,
   "id": "1e267f7a",
   "metadata": {},
   "outputs": [],
   "source": [
    "IG = csig.CohortIntGrad(torch.Tensor(x), torch.Tensor(y), ratio=0.01, n_step=50)\n",
    "ig = IG.igcs_single(t_id=data_id)\n",
    "torch.save(ig, f'igcs_tobacco_100bar_cube_predict_single{cif_id}')"
   ]
  },
  {
   "cell_type": "code",
   "execution_count": null,
   "id": "0b54f797",
   "metadata": {},
   "outputs": [],
   "source": [
    "print(y[data_id])"
   ]
  },
  {
   "cell_type": "code",
   "execution_count": null,
   "id": "255273bf",
   "metadata": {},
   "outputs": [],
   "source": [
    "util_xtda_chem.plot_original_csig_short_fromsingle(\n",
    "    data_id=data_id,\n",
    "    cif_id=cif_id,\n",
    "    x=x,\n",
    "    igcs_fn = f'igcs_tobacco_100bar_cube_predict_single{cif_id}',\n",
    "    px_size = 54,\n",
    "    onemaxB = 27.0,\n",
    "    twomaxB = 27.0,\n",
    "    onemaxP = 8.8,\n",
    "    twomaxP = 3.5,\n",
    "    prefix=\"igcs_tobacco_plot\"\n",
    ")"
   ]
  },
  {
   "cell_type": "code",
   "execution_count": null,
   "id": "36206fb1",
   "metadata": {},
   "outputs": [],
   "source": [
    "plt.imshow(cv2.cvtColor(cv2.imread(f\"igcs_tobacco_plot_{cif_id}.png\"),cv2.COLOR_BGR2RGB))\n",
    "plt.show()"
   ]
  }
 ],
 "metadata": {
  "kernelspec": {
   "display_name": "Python 3 (ipykernel)",
   "language": "python",
   "name": "python3"
  },
  "language_info": {
   "codemirror_mode": {
    "name": "ipython",
    "version": 3
   },
   "file_extension": ".py",
   "mimetype": "text/x-python",
   "name": "python",
   "nbconvert_exporter": "python",
   "pygments_lexer": "ipython3",
   "version": "3.10.6"
  }
 },
 "nbformat": 4,
 "nbformat_minor": 5
}
